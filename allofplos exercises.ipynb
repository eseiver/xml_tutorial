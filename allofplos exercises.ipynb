{
 "cells": [
  {
   "cell_type": "markdown",
   "metadata": {},
   "source": [
    "# Exercises"
   ]
  },
  {
   "cell_type": "code",
   "execution_count": 4,
   "metadata": {},
   "outputs": [],
   "source": [
    "# Use this for all three exercise groups\n",
    "try:\n",
    "    from article_class import Article\n",
    "except ModuleNotFoundError:\n",
    "    from allofplos import Article\n",
    "from allofplos.samples.corpus_analysis import get_all_local_dois, get_random_list_of_dois\n",
    "dois = get_all_local_dois()\n",
    "sample_dois = get_random_list_of_dois(count=100)"
   ]
  },
  {
   "cell_type": "markdown",
   "metadata": {},
   "source": [
    "## Article titles and abstracts\n",
    "\n",
    "<details>\n",
    "    <summary> Click here for a hint!</summary>\n",
    "    Use `article.title`\n",
    "</details>"
   ]
  },
  {
   "cell_type": "markdown",
   "metadata": {},
   "source": [
    "### Beginner"
   ]
  },
  {
   "cell_type": "code",
   "execution_count": 83,
   "metadata": {},
   "outputs": [],
   "source": [
    "# Within the list `dois`, make a list of every article title that contains the word \"Protein\""
   ]
  },
  {
   "cell_type": "markdown",
   "metadata": {},
   "source": [
    "### Intermediate"
   ]
  },
  {
   "cell_type": "code",
   "execution_count": 84,
   "metadata": {},
   "outputs": [],
   "source": [
    "# Within the list `dois`, make a list of every article DOI where the accompanying abstract bas the word \"protein\" but not \"disease\"\n",
    "# Watch capitalization!"
   ]
  },
  {
   "cell_type": "markdown",
   "metadata": {},
   "source": [
    "### Advanced"
   ]
  },
  {
   "cell_type": "code",
   "execution_count": null,
   "metadata": {},
   "outputs": [],
   "source": [
    "# Within the list `dois`, find the most common word across all article titles that isn't \"a', \"the\", \"and\", etc."
   ]
  },
  {
   "cell_type": "markdown",
   "metadata": {},
   "source": [
    "## Publication dates\n",
    "<details>\n",
    "    <summary> Click here for a hint!</summary>\n",
    "    Use `article.pubdate` for publication date\n",
    "</details>"
   ]
  },
  {
   "cell_type": "markdown",
   "metadata": {},
   "source": [
    "### Beginner"
   ]
  },
  {
   "cell_type": "code",
   "execution_count": 87,
   "metadata": {},
   "outputs": [],
   "source": [
    "# Within the list 'sample_dois', find the oldest article. Print out its title\n",
    "# You can also do this for `dois`"
   ]
  },
  {
   "cell_type": "markdown",
   "metadata": {},
   "source": [
    "### Intermediate"
   ]
  },
  {
   "cell_type": "code",
   "execution_count": null,
   "metadata": {},
   "outputs": [],
   "source": [
    "# Within the list 'sample_dois', find every article published in . Print out their titles\n",
    "# You can also do this for `dois`"
   ]
  },
  {
   "cell_type": "markdown",
   "metadata": {},
   "source": [
    "### Advanced\n",
    "<details>\n",
    "    <summary> Click here for a hint!</summary>\n",
    "    Use `article.get_dates()` for dates  \n",
    "    Submission date: `'received'`; Publication date: `'epub'` (or `article.pubdate`)  \n",
    "    Journal name: `article.journal`\n",
    "</details>"
   ]
  },
  {
   "cell_type": "code",
   "execution_count": null,
   "metadata": {},
   "outputs": [],
   "source": [
    "# Within the list 'sample_dois', find the articles with the longest and shortest time-to-publication\n",
    "# Print the journal name and length of time-to-publication in days\n",
    "# You can also do this for `dois`"
   ]
  },
  {
   "cell_type": "markdown",
   "metadata": {},
   "source": [
    "## Author\n",
    "<details>\n",
    "    <summary> Click here for a hint!</summary>\n",
    "    Use `article.authors.get('surname')`\n",
    "</details>"
   ]
  },
  {
   "cell_type": "code",
   "execution_count": null,
   "metadata": {},
   "outputs": [],
   "source": [
    "# Within the list 'dois', find the most common author surname"
   ]
  },
  {
   "cell_type": "code",
   "execution_count": 2,
   "metadata": {},
   "outputs": [],
   "source": [
    "doi_list = ['10.1371/journal.pone.0059947', '10.1371/journal.pone.0166423', '10.1371/journal.pone.0135845', '10.1371/journal.pone.0030355', '10.1371/journal.pone.0067527', '10.1371/journal.pone.0057419', '10.1371/journal.ppat.1004287', '10.1371/journal.pone.0025537', '10.1371/journal.pone.0008223', '10.1371/journal.pone.0014583', '10.1371/journal.pgen.1004953', '10.1371/journal.pone.0090777', '10.1371/journal.pone.0109046', '10.1371/journal.pntd.0004351', '10.1371/journal.pone.0012076', '10.1371/journal.pcbi.1005750', '10.1371/journal.pone.0178690', '10.1371/journal.pone.0158851', '10.1371/journal.pone.0112761', '10.1371/journal.pone.0131393', '10.1371/journal.pone.0058746', '10.1371/journal.pone.0129871', '10.1371/journal.pone.0057896', '10.1371/journal.pone.0037546', '10.1371/journal.pone.0107011', '10.1371/journal.pone.0106540', '10.1371/journal.pmed.1002276', '10.1371/journal.pbio.1000442', '10.1371/journal.pone.0065788', '10.1371/journal.pone.0006764', '10.1371/annotation/9efc9262-f6e2-4b9c-823a-93986608d8a3', '10.1371/annotation/562d2594-464f-49f1-90ef-f78cafcd3956', '10.1371/journal.pgen.1005578', '10.1371/journal.pone.0055403', '10.1371/journal.pone.0152283', '10.1371/journal.pone.0097207', '10.1371/journal.pcbi.1002315', '10.1371/journal.pone.0028641', '10.1371/journal.pone.0073094', '10.1371/journal.pone.0101318', '10.1371/journal.pone.0096688', '10.1371/journal.pone.0141604', '10.1371/journal.pone.0015202', '10.1371/journal.pone.0007114', '10.1371/journal.pone.0156657', '10.1371/journal.pone.0042185', '10.1371/journal.pone.0144161', '10.1371/journal.pone.0074987', '10.1371/journal.pone.0175980', '10.1371/journal.pone.0149098', '10.1371/journal.pone.0083276', '10.1371/journal.pone.0010056', '10.1371/journal.pone.0045363', '10.1371/journal.pone.0073844', '10.1371/journal.pone.0031368', '10.1371/journal.pone.0067629', '10.1371/journal.pone.0179837', '10.1371/journal.pone.0141757', '10.1371/journal.pone.0037213', '10.1371/journal.pone.0165779', '10.1371/journal.pone.0058719', '10.1371/journal.pone.0182178', '10.1371/journal.pone.0151429', '10.1371/journal.pgen.1004574', '10.1371/journal.pcbi.1004802', '10.1371/journal.pone.0009559', '10.1371/journal.pone.0111530', '10.1371/journal.pone.0027422', '10.1371/journal.pone.0183218', '10.1371/journal.pone.0172657', '10.1371/journal.pbio.1000395', '10.1371/journal.pone.0115560', '10.1371/journal.pone.0143668', '10.1371/journal.pone.0096239', '10.1371/journal.pone.0001940', '10.1371/journal.pone.0070139', '10.1371/journal.pone.0159259', '10.1371/journal.pone.0132219', '10.1371/journal.pone.0141812', '10.1371/journal.pone.0014279', '10.1371/journal.pone.0126716', '10.1371/journal.pone.0039423', '10.1371/journal.pone.0166743', '10.1371/journal.pone.0187074', '10.1371/journal.pone.0103322', '10.1371/journal.pone.0031661', '10.1371/journal.pone.0001835', '10.1371/journal.pone.0015541', '10.1371/journal.pone.0012499', '10.1371/journal.pone.0120195', '10.1371/journal.pone.0110657', '10.1371/journal.pone.0104423', '10.1371/journal.pone.0043590', '10.1371/journal.pone.0081180', '10.1371/journal.pone.0016679', '10.1371/journal.pone.0007805', '10.1371/journal.pone.0059943', '10.1371/journal.pone.0108242', '10.1371/journal.pone.0104396', '10.1371/journal.pone.0038700', '10.1371/journal.pone.0012765', '10.1371/journal.pgen.1001093', '10.1371/journal.pone.0151109', '10.1371/journal.pone.0005166', '10.1371/journal.pone.0093354', '10.1371/journal.pone.0103223', '10.1371/journal.pone.0170749', '10.1371/journal.pone.0148030', '10.1371/journal.pone.0071935', '10.1371/journal.pone.0163229', '10.1371/journal.pone.0133917', '10.1371/journal.pone.0001756', '10.1371/journal.pone.0056483', '10.1371/journal.pone.0151313', '10.1371/journal.pone.0030556', '10.1371/journal.pbio.1001252', '10.1371/journal.pone.0096125', '10.1371/journal.pone.0018290', '10.1371/journal.pone.0123168', '10.1371/journal.pone.0148314', '10.1371/journal.pcbi.1000191', '10.1371/journal.pone.0078755', '10.1371/journal.pone.0029353', '10.1371/journal.pone.0110018', '10.1371/journal.pone.0186002', '10.1371/journal.pone.0186164', '10.1371/journal.pone.0087495', '10.1371/journal.pone.0174911', '10.1371/journal.pone.0039208', '10.1371/journal.pone.0066755', '10.1371/journal.pone.0044848', '10.1371/journal.pntd.0003853', '10.1371/journal.pone.0163275', '10.1371/journal.pone.0089582', '10.1371/journal.pone.0168368', '10.1371/journal.pntd.0002953', '10.1371/journal.pone.0141592', '10.1371/journal.pone.0051069', '10.1371/journal.pcbi.1002726', '10.1371/journal.pone.0029615', '10.1371/annotation/e83fbf22-647f-496f-b27d-5aff26898083', '10.1371/journal.pone.0077401', '10.1371/journal.pcbi.1004131', '10.1371/journal.pone.0116763', '10.1371/journal.pone.0023917', '10.1371/annotation/42ab28e5-36fe-4a5f-b6aa-5cfec1bf2e63', '10.1371/journal.pone.0056488', '10.1371/journal.pone.0013654', '10.1371/journal.pone.0008372', '10.1371/journal.pone.0089621', '10.1371/journal.pgen.1002878', '10.1371/journal.pone.0072662', '10.1371/journal.pone.0115764', '10.1371/journal.pone.0177769', '10.1371/journal.pone.0114395', '10.1371/journal.pone.0087943', '10.1371/journal.pone.0014814', '10.1371/journal.pone.0169159', '10.1371/journal.pone.0182514', '10.1371/journal.pone.0144527', '10.1371/journal.pone.0074672', '10.1371/journal.pone.0101395', '10.1371/journal.pone.0076903', '10.1371/journal.pone.0142322', '10.1371/journal.pone.0145836', '10.1371/journal.pone.0014467', '10.1371/journal.pone.0186702', '10.1371/journal.pcbi.1000353', '10.1371/journal.pone.0141798', '10.1371/annotation/d4e8b4eb-2385-4a46-938e-19bbae4fcf89', '10.1371/journal.pone.0071046', '10.1371/journal.pone.0103828', '10.1371/journal.pone.0086058', '10.1371/journal.pgen.1002076', '10.1371/journal.pone.0170970', '10.1371/journal.pone.0038697', '10.1371/journal.pone.0177508', '10.1371/journal.pone.0093325', '10.1371/journal.pone.0054377', '10.1371/journal.pcbi.1004427', '10.1371/journal.pntd.0002515', '10.1371/journal.pone.0010681', '10.1371/journal.pone.0184165', '10.1371/journal.pone.0082589', '10.1371/journal.pone.0006720', '10.1371/journal.pone.0149121', '10.1371/journal.pone.0015424', '10.1371/journal.pone.0138857', '10.1371/journal.ppat.0010042', '10.1371/journal.pone.0086697', '10.1371/journal.pone.0110539', '10.1371/journal.pone.0173248', '10.1371/journal.pone.0047012', '10.1371/journal.ppat.1006023', '10.1371/journal.pone.0144180', '10.1371/journal.pone.0072187', '10.1371/journal.pone.0061792', '10.1371/journal.pone.0130691', '10.1371/journal.pone.0169536', '10.1371/journal.pone.0064928', '10.1371/journal.pone.0177220', '10.1371/journal.pone.0158670', '10.1371/journal.pone.0043991', '10.1371/journal.pgen.1006464', '10.1371/journal.pmed.0050137', '10.1371/journal.pone.0024506', '10.1371/journal.pone.0029473', '10.1371/journal.pone.0158271', '10.1371/journal.pone.0015707', '10.1371/journal.ppat.1005491', '10.1371/journal.pone.0043831', '10.1371/journal.pgen.1005770', '10.1371/journal.pone.0064587', '10.1371/journal.pone.0131359', '10.1371/journal.pone.0110617', '10.1371/journal.pone.0120894', '10.1371/journal.pone.0028147', '10.1371/journal.pone.0177995', '10.1371/annotation/e199ebcc-0bc1-4be1-ad91-ad2a8c0c9382', '10.1371/journal.pgen.1004421', '10.1371/journal.pone.0124356', '10.1371/journal.pmed.1002189', '10.1371/journal.pone.0055815', '10.1371/journal.pone.0100600', '10.1371/journal.pone.0131399', '10.1371/journal.pone.0160880', '10.1371/journal.pone.0163894', '10.1371/journal.pcbi.0030011', '10.1371/journal.pone.0013019', '10.1371/journal.pone.0025200', '10.1371/journal.pone.0172005', '10.1371/journal.pone.0013164', '10.1371/journal.pone.0028022', '10.1371/journal.pone.0010290', '10.1371/journal.pone.0073274', '10.1371/journal.pone.0183847', '10.1371/journal.pone.0116362', '10.1371/journal.pcbi.1002598', '10.1371/journal.pone.0178535', '10.1371/journal.pone.0061161', '10.1371/journal.pgen.1006619', '10.1371/journal.pone.0055457', '10.1371/journal.pone.0134048', '10.1371/journal.pone.0025486', '10.1371/journal.pone.0165497', '10.1371/journal.pone.0151635', '10.1371/journal.pone.0073003', '10.1371/journal.pone.0105743', '10.1371/journal.pone.0110082', '10.1371/journal.pone.0062012', '10.1371/journal.pone.0159257', '10.1371/journal.pone.0084484', '10.1371/journal.pone.0162991', '10.1371/journal.ppat.1000684', '10.1371/journal.pone.0042841', '10.1371/journal.pone.0092761', '10.1371/journal.pone.0011808', '10.1371/journal.pone.0178732', '10.1371/journal.pone.0130877', '10.1371/journal.pone.0101910', '10.1371/journal.pone.0084872', '10.1371/journal.pone.0129236', '10.1371/journal.pone.0091945', '10.1371/journal.pone.0142202', '10.1371/journal.pone.0111146', '10.1371/journal.pone.0109282', '10.1371/journal.pone.0015560', '10.1371/journal.pone.0070231', '10.1371/journal.pntd.0004206', '10.1371/journal.pone.0036720', '10.1371/journal.pone.0073110', '10.1371/journal.pone.0045170', '10.1371/journal.pone.0056035', '10.1371/journal.pone.0083500', '10.1371/journal.pone.0159376', '10.1371/journal.pone.0152224', '10.1371/journal.pone.0040566', '10.1371/journal.pone.0063700', '10.1371/journal.pone.0120270', '10.1371/journal.pone.0183319', '10.1371/journal.pbio.0020307', '10.1371/journal.pone.0017495', '10.1371/journal.pone.0181664', '10.1371/journal.pone.0111636', '10.1371/journal.pone.0091028', '10.1371/journal.pone.0012296', '10.1371/journal.pone.0078281', '10.1371/journal.pone.0047995', '10.1371/journal.pone.0012347', '10.1371/journal.pone.0142428', '10.1371/journal.pone.0183591', '10.1371/journal.pcbi.1004883', '10.1371/journal.pone.0113680', '10.1371/journal.pone.0071342', '10.1371/journal.pgen.1002538', '10.1371/journal.pone.0183685', '10.1371/journal.pone.0115334', '10.1371/journal.pone.0039087', '10.1371/journal.pone.0018898', '10.1371/journal.pone.0104245', '10.1371/journal.pone.0104105', '10.1371/journal.pone.0095328', '10.1371/journal.pone.0020186', '10.1371/journal.pone.0137682', '10.1371/journal.pone.0114591', '10.1371/journal.pone.0153706', '10.1371/journal.pgen.1000857', '10.1371/journal.pone.0078153', '10.1371/journal.pone.0052823', '10.1371/journal.pone.0090715', '10.1371/journal.pone.0024723', '10.1371/journal.pone.0110502', '10.1371/journal.pone.0168223', '10.1371/journal.pone.0051166', '10.1371/journal.pone.0065006', '10.1371/journal.pone.0036603', '10.1371/journal.pone.0085293', '10.1371/journal.pone.0001030', '10.1371/journal.pone.0120201', '10.1371/journal.pone.0103590', '10.1371/journal.pone.0085049', '10.1371/annotation/37e647d5-1781-4edf-86a8-e3b533c32ad9', '10.1371/journal.pone.0046380', '10.1371/journal.pone.0067848', '10.1371/journal.pone.0006061', '10.1371/journal.pone.0133054', '10.1371/journal.pone.0130904', '10.1371/journal.pone.0067739', '10.1371/journal.pone.0182683', '10.1371/journal.pcbi.1003462', '10.1371/journal.pone.0022554', '10.1371/journal.pone.0168397', '10.1371/journal.pone.0173842', '10.1371/journal.pone.0176954', '10.1371/journal.pone.0020831', '10.1371/journal.pone.0016636', '10.1371/journal.pone.0062893', '10.1371/journal.pone.0142943', '10.1371/journal.pcbi.1002341', '10.1371/journal.pone.0100620', '10.1371/journal.pone.0080143', '10.1371/journal.pone.0117786', '10.1371/journal.pone.0120507', '10.1371/journal.pone.0155823', '10.1371/journal.pone.0071481', '10.1371/journal.pone.0124733', '10.1371/journal.pone.0040813', '10.1371/journal.pone.0101469', '10.1371/journal.pone.0104716', '10.1371/journal.pone.0036474', '10.1371/journal.pone.0092094', '10.1371/journal.pone.0019851', '10.1371/journal.pone.0152414', '10.1371/journal.pone.0145512', '10.1371/journal.pone.0059365', '10.1371/journal.pone.0139326', '10.1371/journal.pcbi.1000016', '10.1371/journal.pone.0055401', '10.1371/journal.pone.0025460', '10.1371/journal.pone.0014557', '10.1371/journal.pone.0121044', '10.1371/journal.pone.0179917', '10.1371/journal.pone.0020639', '10.1371/journal.pone.0012266', '10.1371/journal.pone.0168420', '10.1371/journal.pone.0002883', '10.1371/journal.pone.0033995', '10.1371/journal.pone.0017716', '10.1371/journal.pone.0119369', '10.1371/journal.pone.0003962', '10.1371/journal.pone.0030686', '10.1371/journal.pone.0121634', '10.1371/annotation/16c64f49-b803-458d-8c8c-fa22a9c649b2', '10.1371/journal.pone.0103755', '10.1371/journal.pone.0126120', '10.1371/journal.pone.0128045', '10.1371/journal.pone.0179935', '10.1371/journal.pone.0116180', '10.1371/journal.ppat.1005374', '10.1371/journal.pone.0024149', '10.1371/journal.pone.0036365', '10.1371/journal.pone.0158911', '10.1371/journal.pone.0180237', '10.1371/journal.pone.0119411', '10.1371/journal.pone.0172873', '10.1371/journal.pone.0096566', '10.1371/journal.pone.0000798', '10.1371/journal.pcbi.0030082', '10.1371/journal.pone.0139703', '10.1371/journal.pone.0054586', '10.1371/journal.pone.0063470', '10.1371/journal.pone.0090042', '10.1371/journal.pone.0166866', '10.1371/journal.pone.0114913', '10.1371/journal.pone.0117964', '10.1371/journal.pone.0028565', '10.1371/journal.pone.0021426', '10.1371/journal.pone.0173133', '10.1371/journal.pone.0089254', '10.1371/journal.pone.0029073', '10.1371/journal.pone.0022552', '10.1371/journal.pone.0158299', '10.1371/annotation/755a38b9-ccc1-4042-baa2-1249c9da8670', '10.1371/journal.pone.0013364', '10.1371/journal.pone.0146529', '10.1371/journal.pgen.1000870', '10.1371/journal.pone.0122938', '10.1371/journal.pone.0057630', '10.1371/journal.pone.0134563', '10.1371/journal.pone.0165745', '10.1371/journal.pone.0129576', '10.1371/journal.pone.0010042', '10.1371/journal.pone.0009093', '10.1371/journal.pone.0123547', '10.1371/journal.ppat.1005197', '10.1371/journal.ppat.1000733', '10.1371/journal.pone.0058599', '10.1371/journal.pone.0158631', '10.1371/journal.pone.0116747', '10.1371/journal.pone.0164029', '10.1371/journal.pone.0107913', '10.1371/journal.pone.0161281', '10.1371/journal.pmed.0030358', '10.1371/journal.pone.0007481', '10.1371/journal.pone.0126531', '10.1371/journal.pone.0122544', '10.1371/journal.pone.0090408', '10.1371/journal.pone.0118571', '10.1371/journal.pone.0061989', '10.1371/journal.pntd.0005831', '10.1371/journal.pone.0053549', '10.1371/journal.pntd.0002650', '10.1371/journal.pone.0122111', '10.1371/journal.pntd.0005406', '10.1371/journal.pone.0060483', '10.1371/journal.pone.0152630', '10.1371/journal.pone.0008248', '10.1371/journal.ppat.1005645', '10.1371/journal.pone.0095542', '10.1371/journal.pone.0095451', '10.1371/journal.pone.0146496', '10.1371/journal.pone.0169214', '10.1371/journal.pone.0090657', '10.1371/journal.pone.0063693', '10.1371/journal.pone.0140231', '10.1371/journal.pone.0158062', '10.1371/journal.pone.0020842', '10.1371/journal.pone.0089975', '10.1371/journal.pone.0026177', '10.1371/journal.pone.0182428', '10.1371/journal.pone.0171680', '10.1371/journal.pone.0149681', '10.1371/journal.pgen.1005513', '10.1371/journal.pntd.0000807', '10.1371/journal.pone.0131090', '10.1371/journal.pone.0147478', '10.1371/journal.pone.0187355', '10.1371/journal.pone.0166795', '10.1371/journal.pone.0160224', '10.1371/journal.pone.0146881', '10.1371/journal.pntd.0004199', '10.1371/journal.pone.0132571', '10.1371/journal.pone.0029029', '10.1371/journal.pone.0016632', '10.1371/journal.pone.0069794', '10.1371/journal.pone.0032438', '10.1371/journal.pone.0028643', '10.1371/journal.pgen.1004323', '10.1371/journal.pone.0103526', '10.1371/journal.pone.0081449', '10.1371/journal.pone.0046377', '10.1371/journal.pone.0021585', '10.1371/journal.pone.0109159', '10.1371/journal.pone.0111980', '10.1371/journal.pone.0086037', '10.1371/journal.pbio.0030334', '10.1371/journal.pone.0160095', '10.1371/journal.pntd.0000675', '10.1371/journal.pone.0111212', '10.1371/journal.pone.0094505', '10.1371/journal.pone.0089248', '10.1371/journal.pone.0166593', '10.1371/journal.pone.0151985', '10.1371/journal.pone.0081718', '10.1371/journal.pone.0051952', '10.1371/journal.pone.0103823', '10.1371/journal.pgen.1000334', '10.1371/journal.pone.0034870', '10.1371/journal.pone.0074197', '10.1371/journal.pone.0134880', '10.1371/journal.pgen.1000116', '10.1371/journal.pone.0082510', '10.1371/journal.pone.0063489', '10.1371/journal.pone.0035659', '10.1371/journal.pone.0083970', '10.1371/journal.pone.0170481', '10.1371/journal.pone.0051624', '10.1371/journal.pone.0067577', '10.1371/journal.pone.0025816', '10.1371/journal.pone.0135393', '10.1371/journal.pone.0127813', '10.1371/journal.pone.0180118', '10.1371/journal.pone.0124720', '10.1371/journal.pone.0160427', '10.1371/journal.pone.0145388', '10.1371/journal.pone.0116090', '10.1371/journal.pone.0032077', '10.1371/journal.pone.0061223', '10.1371/journal.pone.0153053', '10.1371/journal.pone.0058133', '10.1371/journal.pone.0025484', '10.1371/journal.ppat.1004889', '10.1371/journal.pone.0140644', '10.1371/journal.pone.0073723', '10.1371/annotation/d8c73205-151d-4e22-89c6-3aa574037d10', '10.1371/journal.pone.0178372', '10.1371/journal.pone.0011518', '10.1371/journal.pone.0089021', '10.1371/journal.pone.0032592', '10.1371/journal.pone.0053387', '10.1371/journal.pgen.1005490', '10.1371/journal.pone.0090710', '10.1371/journal.pone.0070015', '10.1371/journal.pcbi.1002725', '10.1371/journal.pone.0087531', '10.1371/journal.pone.0017740', '10.1371/journal.pone.0110798', '10.1371/journal.ppat.1004999', '10.1371/journal.pone.0124049', '10.1371/journal.pone.0111287', '10.1371/journal.pbio.2000719', '10.1371/journal.pone.0087096', '10.1371/journal.pone.0172311', '10.1371/journal.ppat.1000525', '10.1371/journal.pone.0174047', '10.1371/journal.pone.0000778', '10.1371/journal.pone.0161803', '10.1371/journal.pntd.0005503', '10.1371/journal.pone.0103666', '10.1371/journal.pone.0019157', '10.1371/journal.pone.0046050', '10.1371/journal.pone.0158369', '10.1371/journal.pone.0072407', '10.1371/journal.pone.0150851', '10.1371/annotation/00d17a45-7b78-4fd5-9a9a-0f2e49b04eee', '10.1371/journal.pone.0055961', '10.1371/journal.pone.0040816', '10.1371/journal.pone.0136036', '10.1371/journal.pntd.0001043', '10.1371/journal.pone.0039258', '10.1371/journal.pone.0092018', '10.1371/journal.pone.0170205', '10.1371/journal.pgen.1003032', '10.1371/journal.pone.0086892', '10.1371/journal.pntd.0004029', '10.1371/journal.pgen.1004799', '10.1371/journal.pgen.1004025', '10.1371/journal.pone.0154880', '10.1371/journal.pone.0048868', '10.1371/journal.pcbi.1002393', '10.1371/journal.pone.0075107', '10.1371/journal.pone.0180416', '10.1371/journal.pone.0132768', '10.1371/journal.pone.0083168', '10.1371/journal.pone.0154324', '10.1371/journal.pone.0149534', '10.1371/journal.pone.0041467', '10.1371/journal.pntd.0003550', '10.1371/journal.pgen.1000597', '10.1371/journal.pone.0000898', '10.1371/journal.pone.0187768', '10.1371/journal.pone.0101755', '10.1371/journal.pone.0002163', '10.1371/journal.pbio.1002123', '10.1371/journal.pone.0131305', '10.1371/journal.pone.0012557', '10.1371/journal.pone.0047839', '10.1371/journal.pone.0069844', '10.1371/journal.pone.0043800', '10.1371/journal.pone.0024908', '10.1371/journal.pone.0110941', '10.1371/journal.pone.0020376', '10.1371/journal.pone.0104705', '10.1371/journal.pgen.1001311', '10.1371/journal.pone.0155256', '10.1371/journal.pone.0146702', '10.1371/journal.pone.0097379', '10.1371/journal.pone.0061468', '10.1371/journal.pone.0066261', '10.1371/journal.pone.0128474', '10.1371/journal.pone.0142492', '10.1371/journal.pone.0170126', '10.1371/journal.pone.0071369', '10.1371/journal.pgen.1005123', '10.1371/journal.pone.0181997', '10.1371/journal.pone.0031603', '10.1371/journal.pone.0024511', '10.1371/journal.pbio.0060025', '10.1371/journal.pone.0085870', '10.1371/journal.pone.0070780', '10.1371/journal.pone.0066227', '10.1371/journal.pone.0065726', '10.1371/journal.pone.0028879', '10.1371/journal.pone.0131360', '10.1371/journal.pone.0121545', '10.1371/journal.pone.0100892', '10.1371/journal.pone.0034969', '10.1371/journal.pone.0057986', '10.1371/journal.pone.0172486', '10.1371/journal.pone.0002067', '10.1371/journal.pone.0126307', '10.1371/journal.pone.0036804', '10.1371/journal.pone.0157966', '10.1371/journal.pone.0006946', '10.1371/journal.pone.0028659', '10.1371/journal.pone.0135858', '10.1371/journal.pone.0012286', '10.1371/journal.pone.0089784', '10.1371/journal.pntd.0005643', '10.1371/journal.pntd.0001466', '10.1371/journal.pone.0025005', '10.1371/journal.pone.0140598', '10.1371/journal.pone.0058778', '10.1371/journal.pone.0118071', '10.1371/journal.pone.0098859', '10.1371/journal.pone.0034079', '10.1371/journal.pone.0050009', '10.1371/annotation/2501cac9-f313-406f-919b-314f12b43516', '10.1371/journal.ppat.1000793', '10.1371/journal.pone.0130476', '10.1371/journal.pone.0107325', '10.1371/journal.pone.0094060', '10.1371/journal.pone.0131169', '10.1371/journal.pone.0184473', '10.1371/journal.pone.0018715', '10.1371/journal.pone.0000304', '10.1371/journal.pone.0034625', '10.1371/journal.pone.0167037', '10.1371/journal.pone.0006212', '10.1371/journal.pone.0106378', '10.1371/journal.pgen.1005626', '10.1371/journal.pone.0098747', '10.1371/journal.pbio.1001235', '10.1371/journal.pone.0097611', '10.1371/journal.pone.0115555', '10.1371/annotation/17d5aaa1-c6d8-4aad-a9a4-56b2c1220c83', '10.1371/journal.pone.0078420', '10.1371/journal.pone.0144986', '10.1371/journal.pone.0175014', '10.1371/journal.pone.0075484', '10.1371/journal.pone.0040778', '10.1371/journal.pone.0159802', '10.1371/journal.ppat.1002339', '10.1371/journal.pone.0049505', '10.1371/journal.pone.0100073', '10.1371/journal.pone.0018338', '10.1371/journal.pone.0170314', '10.1371/journal.pone.0137346', '10.1371/journal.pone.0127575', '10.1371/journal.pone.0166452', '10.1371/journal.pone.0085741', '10.1371/journal.pone.0109421', '10.1371/journal.pone.0092950', '10.1371/journal.pone.0153810', '10.1371/journal.pone.0036532', '10.1371/journal.pone.0057007', '10.1371/journal.pone.0163549', '10.1371/journal.ppat.1002298', '10.1371/journal.pone.0091775', '10.1371/journal.pone.0090184', '10.1371/journal.pone.0131296', '10.1371/journal.pone.0031023', '10.1371/journal.pone.0139308', '10.1371/journal.pone.0008644', '10.1371/journal.pone.0070945', '10.1371/journal.pone.0049909', '10.1371/journal.pone.0014764', '10.1371/journal.pcbi.1002718', '10.1371/journal.pone.0073553', '10.1371/journal.pone.0109702', '10.1371/journal.pone.0137924', '10.1371/journal.pntd.0000404', '10.1371/journal.pone.0167348', '10.1371/journal.pone.0157278', '10.1371/journal.pone.0110428', '10.1371/journal.pone.0077891', '10.1371/journal.pone.0070469', '10.1371/journal.ppat.1000538', '10.1371/journal.pone.0014734', '10.1371/journal.pone.0149010', '10.1371/journal.pone.0081976', '10.1371/journal.pone.0175044', '10.1371/journal.pcbi.1004659', '10.1371/journal.pone.0048382', '10.1371/journal.pone.0028698', '10.1371/journal.pone.0060434', '10.1371/journal.pone.0026893', '10.1371/journal.pone.0000016', '10.1371/journal.pone.0032988', '10.1371/journal.pone.0125420', '10.1371/journal.pone.0085325', '10.1371/journal.pgen.1001035', '10.1371/journal.pone.0065616', '10.1371/journal.pone.0098090', '10.1371/journal.pone.0022136', '10.1371/journal.pone.0030439', '10.1371/journal.pone.0059858', '10.1371/journal.pone.0142080', '10.1371/journal.pone.0030667', '10.1371/journal.pone.0136867', '10.1371/journal.pone.0157055', '10.1371/journal.pone.0031144', '10.1371/journal.pone.0003478', '10.1371/journal.pcbi.1002442', '10.1371/journal.ppat.0040032', '10.1371/journal.pone.0181100', '10.1371/journal.pone.0097716', '10.1371/journal.pone.0013957', '10.1371/journal.pone.0020098', '10.1371/journal.pone.0012163', '10.1371/journal.pone.0028427', '10.1371/journal.pone.0186556', '10.1371/journal.pone.0016232', '10.1371/journal.ppat.1004576', '10.1371/journal.pcbi.1004583', '10.1371/journal.pone.0052733', '10.1371/journal.pone.0023222', '10.1371/journal.pone.0097962', '10.1371/journal.pone.0009527', '10.1371/journal.pone.0139971', '10.1371/journal.pone.0023406', '10.1371/journal.pgen.1003551', '10.1371/journal.pone.0130711', '10.1371/journal.pone.0129067', '10.1371/journal.pone.0057399', '10.1371/journal.pone.0003939', '10.1371/journal.pone.0075764', '10.1371/journal.pone.0109517', '10.1371/journal.pone.0143732', '10.1371/journal.pone.0155556', '10.1371/journal.pone.0187286', '10.1371/journal.pone.0183984', '10.1371/journal.pone.0105183', '10.1371/journal.pone.0138565', '10.1371/journal.pone.0092262', '10.1371/journal.pone.0009411', '10.1371/journal.pone.0029570', '10.1371/journal.pone.0064487', '10.1371/journal.pone.0049989', '10.1371/journal.pone.0131199', '10.1371/journal.pone.0096484', '10.1371/journal.pone.0158533', '10.1371/journal.pone.0144372', '10.1371/journal.pone.0100737', '10.1371/journal.pone.0133885', '10.1371/journal.pone.0177223', '10.1371/journal.pone.0162990', '10.1371/journal.pone.0034091', '10.1371/journal.pone.0089648', '10.1371/journal.pone.0176791', '10.1371/journal.pntd.0006009', '10.1371/journal.pone.0120497', '10.1371/journal.pone.0128694', '10.1371/journal.pone.0163290', '10.1371/journal.pone.0172863', '10.1371/journal.pone.0134357', '10.1371/journal.pone.0066049', '10.1371/journal.pgen.0030149', '10.1371/journal.pone.0171632', '10.1371/journal.pone.0078001', '10.1371/journal.pone.0004498', '10.1371/journal.pone.0179156', '10.1371/journal.pone.0007495', '10.1371/journal.pone.0086017', '10.1371/journal.pone.0125362', '10.1371/journal.pone.0026624', '10.1371/journal.pntd.0005597', '10.1371/journal.pone.0069279', '10.1371/journal.pbio.0030189', '10.1371/annotation/2f7219d5-14a3-4df8-a9ff-1a1f11251b27', '10.1371/journal.pone.0154863', '10.1371/journal.pone.0041702', '10.1371/journal.pntd.0000959', '10.1371/journal.pone.0127897', '10.1371/journal.pone.0060752', '10.1371/journal.pone.0093174', '10.1371/journal.pone.0158514', '10.1371/journal.pone.0014197', '10.1371/journal.pone.0012241', '10.1371/journal.pmed.1001446', '10.1371/journal.pone.0130781', '10.1371/annotation/6870e918-77d7-4ef5-ae5e-6cf994f9c169', '10.1371/journal.pone.0178051', '10.1371/journal.pone.0006904', '10.1371/journal.pone.0187295', '10.1371/journal.pone.0141379', '10.1371/journal.pone.0037013', '10.1371/journal.pone.0052586', '10.1371/journal.pone.0136410', '10.1371/journal.pone.0174584', '10.1371/journal.pgen.1001185', '10.1371/journal.pone.0009377', '10.1371/journal.pone.0015971', '10.1371/journal.ppat.1000980', '10.1371/journal.pone.0167125', '10.1371/journal.pone.0129921', '10.1371/journal.pone.0159212', '10.1371/journal.pone.0006537', '10.1371/journal.pcbi.0020019', '10.1371/journal.pone.0048130', '10.1371/journal.pone.0028275', '10.1371/journal.pbio.1002081', '10.1371/journal.pone.0126083', '10.1371/journal.pone.0089273', '10.1371/journal.pone.0013339', '10.1371/journal.pone.0177134', '10.1371/journal.pone.0076162', '10.1371/journal.pone.0084944', '10.1371/journal.pone.0020930', '10.1371/journal.pone.0016159', '10.1371/journal.pone.0036052', '10.1371/journal.pone.0074110', '10.1371/journal.pone.0164094', '10.1371/journal.pone.0112505', '10.1371/journal.pcbi.1003744', '10.1371/journal.pone.0187119', '10.1371/journal.pone.0046166', '10.1371/journal.pone.0132405', '10.1371/journal.pone.0048973', '10.1371/journal.pone.0110910', '10.1371/journal.pmed.0050241', '10.1371/journal.pone.0144547', '10.1371/journal.pone.0023061', '10.1371/journal.pone.0081728', '10.1371/journal.pone.0182083', '10.1371/journal.pone.0168584', '10.1371/journal.pone.0011290', '10.1371/journal.pone.0110522', '10.1371/journal.pbio.1001918', '10.1371/journal.pone.0105724', '10.1371/journal.pone.0016592', '10.1371/journal.pone.0183740', '10.1371/journal.pgen.1006931', '10.1371/journal.pone.0126298', '10.1371/journal.pone.0050471', '10.1371/journal.pone.0138362', '10.1371/journal.pone.0168333', '10.1371/journal.pone.0006804', '10.1371/journal.pone.0153759', '10.1371/journal.pone.0037497', '10.1371/journal.pone.0040965', '10.1371/journal.pone.0036044', '10.1371/journal.pone.0152974', '10.1371/journal.pone.0021892', '10.1371/journal.pntd.0003680', '10.1371/journal.pone.0105303', '10.1371/journal.pone.0081018', '10.1371/journal.pone.0036298', '10.1371/journal.pone.0095124', '10.1371/journal.pone.0099731', '10.1371/journal.ppat.1001042', '10.1371/journal.pgen.1001071', '10.1371/journal.pone.0130900', '10.1371/journal.pone.0090105', '10.1371/journal.pone.0030129', '10.1371/journal.pbio.0050124', '10.1371/journal.pone.0006117', '10.1371/journal.pone.0045246', '10.1371/journal.pone.0185101', '10.1371/journal.pone.0155737', '10.1371/journal.pone.0044779', '10.1371/journal.pone.0141742', '10.1371/journal.pone.0006008', '10.1371/journal.pone.0155218', '10.1371/journal.pntd.0002906', '10.1371/journal.pone.0141445', '10.1371/journal.pone.0094327', '10.1371/journal.pone.0180362', '10.1371/journal.pone.0137018', '10.1371/journal.pone.0143238', '10.1371/journal.pcbi.1002778', '10.1371/journal.pone.0176555', '10.1371/journal.pone.0079488', '10.1371/journal.pone.0042200', '10.1371/journal.pone.0181404', '10.1371/journal.pone.0048655', '10.1371/journal.pone.0036934', '10.1371/journal.pone.0118384', '10.1371/annotation/33056b27-c9ab-46ef-8168-08a8f0f907b2', '10.1371/journal.pone.0062075', '10.1371/journal.pone.0019252', '10.1371/journal.pone.0185235', '10.1371/journal.pone.0022876', '10.1371/journal.pone.0129676', '10.1371/journal.pone.0065825', '10.1371/journal.pone.0086334', '10.1371/journal.pntd.0001985', '10.1371/journal.pone.0139940', '10.1371/journal.pone.0155447', '10.1371/journal.pone.0001555', '10.1371/journal.pone.0183420', '10.1371/journal.pone.0136953', '10.1371/journal.pone.0069903', '10.1371/journal.pone.0093798', '10.1371/journal.pone.0033305', '10.1371/journal.pone.0099334', '10.1371/journal.pone.0052799', '10.1371/journal.pone.0157942', '10.1371/journal.pcbi.1003822', '10.1371/journal.pone.0094191', '10.1371/journal.pone.0015977', '10.1371/journal.pone.0044037', '10.1371/journal.pone.0166342', '10.1371/journal.pone.0013288', '10.1371/journal.pone.0039789', '10.1371/journal.pone.0069395', '10.1371/journal.pone.0140052', '10.1371/journal.pone.0064410', '10.1371/journal.pone.0099848', '10.1371/journal.pgen.1000210', '10.1371/journal.pone.0149667', '10.1371/journal.pone.0164010', '10.1371/journal.pone.0145195', '10.1371/journal.pone.0081669', '10.1371/journal.pone.0098918', '10.1371/journal.pone.0032521', '10.1371/journal.pone.0011471', '10.1371/journal.pone.0039304', '10.1371/journal.pone.0141680', '10.1371/journal.pone.0071609', '10.1371/journal.pone.0079555', '10.1371/journal.ppat.1005675', '10.1371/journal.pone.0138131', '10.1371/journal.pone.0122746', '10.1371/journal.pone.0148467', '10.1371/journal.pone.0050021', '10.1371/journal.pcbi.1002113', '10.1371/journal.pone.0107957', '10.1371/journal.pone.0006727', '10.1371/journal.pone.0184928', '10.1371/journal.pone.0142480', '10.1371/journal.pone.0060549', '10.1371/journal.pone.0122754', '10.1371/journal.pone.0141444', '10.1371/journal.pcbi.1000523', '10.1371/journal.pone.0103035', '10.1371/journal.pone.0008121', '10.1371/journal.pmed.1001128', '10.1371/journal.pone.0096391', '10.1371/journal.pone.0088221', '10.1371/journal.pone.0093208', '10.1371/journal.pone.0101066', '10.1371/journal.pone.0084617', '10.1371/journal.pone.0098242', '10.1371/journal.pone.0046079', '10.1371/journal.pone.0051662', '10.1371/journal.pone.0108587', '10.1371/journal.pone.0163680', '10.1371/journal.pone.0166809', '10.1371/journal.pone.0052342', '10.1371/journal.pone.0092048', '10.1371/journal.pone.0181748', '10.1371/journal.pgen.1002729', '10.1371/journal.pone.0020920', '10.1371/journal.pone.0036806', '10.1371/journal.pone.0161882', '10.1371/journal.pone.0045606', '10.1371/journal.pone.0121846', '10.1371/journal.pgen.1002191', '10.1371/journal.pone.0083025', '10.1371/journal.pone.0020979', '10.1371/journal.pntd.0002766', '10.1371/journal.pone.0103993', '10.1371/journal.pone.0062641', '10.1371/journal.pone.0152824', '10.1371/journal.pgen.1004800', '10.1371/journal.pone.0128076', '10.1371/journal.pone.0128414', '10.1371/journal.pone.0093029', '10.1371/journal.pone.0119586', '10.1371/journal.pone.0130778', '10.1371/journal.pone.0140346', '10.1371/annotation/5a332f5e-aea5-40e3-8601-58bcd141b491', '10.1371/journal.pone.0161001', '10.1371/journal.pone.0120361', '10.1371/journal.pone.0074525', '10.1371/journal.pone.0187149', '10.1371/journal.pone.0183594', '10.1371/journal.pone.0068102', '10.1371/journal.pone.0165111', '10.1371/journal.pone.0154464', '10.1371/journal.pone.0137956', '10.1371/journal.pone.0167081', '10.1371/journal.pone.0140982', '10.1371/journal.ppat.1000969', '10.1371/journal.pone.0056108', '10.1371/journal.pone.0164299', '10.1371/journal.pbio.0030246', '10.1371/journal.pone.0129406', '10.1371/journal.pone.0136642']"
   ]
  },
  {
   "cell_type": "code",
   "execution_count": 9,
   "metadata": {},
   "outputs": [
    {
     "name": "stdout",
     "output_type": "stream",
     "text": [
      "{'author_notes': ['Conceived and designed the experiments', 'Analyzed the data', 'Wrote the paper']}\n",
      "{'author_notes': ['Conceived and designed the experiments', 'Performed the experiments', 'Analyzed the data', 'Contributed reagents/materials/analysis tools', 'Wrote the paper']}\n",
      "{'author_notes': ['Conceived and designed the experiments', 'Analyzed the data', 'Wrote the paper']}\n",
      "{'author_notes': ['Conceived and designed the experiments', 'Performed the experiments', 'Analyzed the data', 'Contributed reagents/materials/analysis tools', 'Wrote the paper']}\n",
      "{'author_notes': ['Conceived and designed the experiments', 'Performed the experiments', 'Analyzed the data', 'Wrote the paper']}\n",
      "{'author_notes': ['Conceived and designed the experiments', 'Analyzed the data', 'Wrote the paper']}\n",
      "{'author_notes': ['Conceived and designed the experiments', 'Performed the experiments', 'Analyzed the data', 'Wrote the paper']}\n",
      "{'author_notes': ['Conceptualization', 'Data curation', 'Investigation', 'Writing – original draft', 'Writing – review & editing']}\n",
      "{}\n",
      "{}\n",
      "{'author_notes': ['Conceived and designed the experiments', 'Performed the experiments', 'Analyzed the data', 'Contributed reagents/materials/analysis tools', 'Contributed to the writing of the manuscript', 'Designed the software used in analysis']}\n",
      "{'author_notes': ['Conceived and designed the experiments', 'Performed the experiments', 'Analyzed the data', 'Wrote the paper']}\n",
      "{'author_notes': ['Conceived and designed the experiments', 'Performed the experiments', 'Analyzed the data', 'Contributed reagents/materials/analysis tools', 'Wrote the paper', 'Data submission']}\n",
      "{'author_notes': ['Conceived and designed the experiments', 'Analyzed the data', 'Wrote the paper']}\n",
      "{'author_notes': ['Performed the experiments', 'Analyzed the data', 'Contributed reagents/materials/analysis tools', 'Wrote the paper']}\n",
      "{'author_notes': ['Conceived and designed the experiments', 'Performed the experiments', 'Analyzed the data', 'Wrote the paper', 'Revised the manuscript and approved the final version']}\n",
      "{'author_notes': ['Conceived and designed the experiments', 'Performed the experiments', 'Analyzed the data', 'Wrote the paper']}\n",
      "{'author_notes': ['Conceived and designed the experiments', 'Wrote the first draft of the manuscript', 'Contributed to the writing of the manuscript', 'Agree with the manuscript’s results and conclusions']}\n",
      "Error getting contrib info for 10.1371/annotation/59ea8540-4e63-4f4a-a79e-f68765fdeac7\n",
      "error constructing footnote matches for 10.1371/annotation/59ea8540-4e63-4f4a-a79e-f68765fdeac7: None None\n",
      "{}\n",
      "{'author_notes': ['Conceived and designed the experiments', 'Performed the experiments', 'Wrote the paper']}\n",
      "{'author_notes': ['Researched data and wrote the manuscript', 'Conceived and designed the experiments', 'Performed the experiments', 'Analyzed the data']}\n",
      "{'CASRAI CREDiT taxonomy': ['Formal analysis', 'Project administration', 'Software', 'Validation', 'Visualization', 'Writing – original draft', 'Writing – review & editing']}\n",
      "{'author_notes': ['Conceived and designed the experiments', 'Performed the experiments', 'Analyzed the data', 'Contributed reagents/materials/analysis tools', 'Wrote the paper']}\n",
      "{'author_notes': ['Performed the experiments', 'Analyzed the data', 'Contributed reagents/materials/analysis tools']}\n",
      "{'author_notes': ['Performed the experiments', 'Analyzed the data', 'Wrote the paper']}\n",
      "{'author_notes': ['Conceived and designed the experiments', 'Performed the experiments', 'Analyzed the data', 'Contributed to the writing of the manuscript']}\n",
      "{'author_notes': ['Conceived and designed the experiments', 'Performed the experiments', 'Analyzed the data', 'Contributed reagents/materials/analysis tools', 'Wrote the paper']}\n",
      "{'author_notes': ['Conceived and designed the experiments', 'Performed the experiments', 'Analyzed the data', 'Contributed reagents/materials/analysis tools', 'Contributed to the writing of the manuscript']}\n",
      "{'author_notes': ['Conceived and designed the experiments', 'Performed the experiments', 'Analyzed the data', 'Wrote the paper']}\n",
      "{'author_notes': ['Conceived and designed the experiments', 'Performed the experiments', 'Analyzed the data', 'Wrote the paper']}\n",
      "{'author_notes': ['Conceived and designed the experiments', 'Performed the experiments', 'Contributed reagents/materials/analysis tools', 'Wrote the paper']}\n",
      "Warning: authors not matched correctly to author_roles for 10.1371/journal.pone.0125322\n",
      "{'author_notes': ['Conceived and designed the experiments', 'Performed the experiments', 'Analyzed the data', 'Wrote the paper']}\n",
      "{'author_notes': ['Conceived and designed the experiments', 'Analyzed the data', 'Wrote the manuscript', 'Final approval of the manuscript']}\n",
      "{'author_notes': ['Conceived and designed the experiments', 'Performed the experiments', 'Contributed reagents/materials/analysis tools', 'Wrote the paper']}\n",
      "{'author_notes': ['Performed the experiments', 'Analyzed the data', 'Contributed reagents/materials/analysis tools', 'Wrote the paper']}\n",
      "{'author_notes': ['Conceived and designed the experiments', 'Analyzed the data', 'Wrote the paper']}\n",
      "{'author_notes': ['Conceived and designed the experiments', 'Performed the experiments', 'Analyzed the data', 'Wrote the paper']}\n",
      "{'author_notes': ['Conceived and designed the experiments', 'Performed the experiments', 'Analyzed the data', 'Wrote the paper']}\n",
      "{'author_notes': ['Performed the experiments', 'Analyzed the data', 'Wrote the paper']}\n",
      "{'author_notes': ['Performed the experiments', 'Analyzed the data', 'Wrote the paper']}\n",
      "Warning: authors not matched correctly to author_roles for 10.1371/journal.pone.0093763\n",
      "{'author_notes': ['Wrote the first draft of the manuscript']}\n",
      "{'author_notes': ['Conceptualization', 'Data curation', 'Formal analysis', 'Funding acquisition', 'Investigation', 'Methodology', 'Project administration', 'Software', 'Visualization', 'Writing – original draft', 'Writing – review & editing']}\n",
      "{'author_notes': ['Conceived and designed the experiments', 'Analyzed the data', 'Contributed reagents/materials/analysis tools', 'Wrote the paper']}\n",
      "{'author_notes': ['Conceived and designed the experiments', 'Performed the experiments', 'Analyzed the data', 'Contributed reagents/materials/analysis tools', 'Wrote the paper']}\n",
      "{'author_notes': ['Conceived and designed the experiments', 'Performed the experiments', 'Analyzed the data', 'Contributed reagents/materials/analysis tools', 'Wrote the paper']}\n",
      "{'author_notes': ['Conceived and designed the experiments', 'Performed the experiments', 'Analyzed the data', 'Wrote the paper']}\n",
      "{'author_notes': ['Conceived and designed the experiments', 'Performed the experiments', 'Analyzed the data']}\n",
      "{'author_notes': ['Performed the experiments', 'Analyzed the data', 'Contributed reagents/materials/analysis tools', 'Wrote the paper']}\n",
      "{'author_notes': ['Performed the experiments']}\n",
      "{'author_notes': ['Conceived and designed the experiments', 'Performed the experiments', 'Analyzed the data', 'Contributed reagents/materials/analysis tools', 'Wrote the paper']}\n"
     ]
    }
   ],
   "source": [
    "dois = get_random_list_of_dois(count=50)\n",
    "article = Article(dois[0])\n",
    "for doi in dois:\n",
    "    article.doi = doi\n",
    "    print(article.authors[0]['author_roles'])"
   ]
  },
  {
   "cell_type": "code",
   "execution_count": null,
   "metadata": {},
   "outputs": [],
   "source": []
  }
 ],
 "metadata": {
  "kernelspec": {
   "display_name": "Python 3",
   "language": "python",
   "name": "python3"
  },
  "language_info": {
   "codemirror_mode": {
    "name": "ipython",
    "version": 3
   },
   "file_extension": ".py",
   "mimetype": "text/x-python",
   "name": "python",
   "nbconvert_exporter": "python",
   "pygments_lexer": "ipython3",
   "version": "3.6.3"
  },
  "toc": {
   "colors": {
    "hover_highlight": "#DAA520",
    "navigate_num": "#000000",
    "navigate_text": "#333333",
    "running_highlight": "#FF0000",
    "selected_highlight": "#FFD700",
    "sidebar_border": "#EEEEEE",
    "wrapper_background": "#FFFFFF"
   },
   "moveMenuLeft": true,
   "nav_menu": {
    "height": "11px",
    "width": "252px"
   },
   "navigate_menu": true,
   "number_sections": true,
   "sideBar": true,
   "threshold": 4,
   "toc_cell": false,
   "toc_section_display": "block",
   "toc_window_display": false,
   "widenNotebook": false
  }
 },
 "nbformat": 4,
 "nbformat_minor": 2
}
